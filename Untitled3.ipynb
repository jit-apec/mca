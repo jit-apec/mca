{
  "nbformat": 4,
  "nbformat_minor": 0,
  "metadata": {
    "colab": {
      "name": "Untitled3.ipynb",
      "provenance": [],
      "collapsed_sections": [],
      "authorship_tag": "ABX9TyMbPxrgHo38L9QMJgR0pTaY",
      "include_colab_link": true
    },
    "kernelspec": {
      "name": "python3",
      "display_name": "Python 3"
    },
    "language_info": {
      "name": "python"
    }
  },
  "cells": [
    {
      "cell_type": "markdown",
      "metadata": {
        "id": "view-in-github",
        "colab_type": "text"
      },
      "source": [
        "<a href=\"https://colab.research.google.com/github/jit-apec/mca/blob/main/Untitled3.ipynb\" target=\"_parent\"><img src=\"https://colab.research.google.com/assets/colab-badge.svg\" alt=\"Open In Colab\"/></a>"
      ]
    },
    {
      "cell_type": "code",
      "metadata": {
        "id": "Wnhw9RXlgkCw"
      },
      "source": [
        "import matplotlib.pyplot as plt\n",
        "from matplotlib import style\n",
        "import pandas as pd\n",
        "import numpy as np\n",
        "import seaborn as sb\n",
        "\n",
        "\n",
        "df = pd.read_excel('/Canada.xlsx', 1, skiprows=range(20), skipfooter=2)\n",
        "\n",
        "df.drop(['AREA','REG','DEV','Type','Coverage','DevName'],axis=1,inplace = True)\n",
        "df.rename(columns = {'OdName':'country','AreaName':'continent','RegName':'region'}, inplace = True)\n",
        "df['total'] = df.sum(axis = 1)\n",
        "df = df.set_index('country')\n",
        "df.rename(index = {'United Kingdom of Great Britain and Northern Ireland':'UK & Ireland'}, inplace = True)\n",
        "df.columns = df.columns.astype(str)\n",
        "years = list(map(str, range(1980, 2013)))"
      ],
      "execution_count": 3,
      "outputs": []
    }
  ]
}